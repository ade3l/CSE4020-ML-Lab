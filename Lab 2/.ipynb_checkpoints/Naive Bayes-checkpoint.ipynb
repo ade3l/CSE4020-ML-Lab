{
 "cells": [
  {
   "cell_type": "markdown",
   "id": "26593beb",
   "metadata": {},
   "source": [
    "# Naive Bayes Classifier\n",
    "Using a salary dataset"
   ]
  },
  {
   "cell_type": "code",
   "execution_count": 10,
   "id": "241fabd2",
   "metadata": {},
   "outputs": [],
   "source": [
    "import numpy as np\n",
    "import pandas as pd\n",
    "import matplotlib.pyplot as plt\n",
    "from sklearn import preprocessing\n",
    "from sklearn.naive_bayes import GaussianNB"
   ]
  },
  {
   "cell_type": "code",
   "execution_count": 2,
   "id": "ca7c5ba3",
   "metadata": {},
   "outputs": [],
   "source": [
    "salary_train=pd.read_csv('./data/SalaryData_Train.csv')\n",
    "salary_test=pd.read_csv('./data/SalaryData_Test.csv')"
   ]
  },
  {
   "cell_type": "code",
   "execution_count": null,
   "id": "2b4fc569",
   "metadata": {},
   "outputs": [],
   "source": []
  },
  {
   "cell_type": "code",
   "execution_count": 4,
   "id": "68467982",
   "metadata": {},
   "outputs": [
    {
     "data": {
      "text/plain": [
       "(Index(['age', 'workclass', 'education', 'educationno', 'maritalstatus',\n",
       "        'occupation', 'relationship', 'race', 'sex', 'capitalgain',\n",
       "        'capitalloss', 'hoursperweek', 'native', 'Salary'],\n",
       "       dtype='object'),\n",
       " Index(['age', 'workclass', 'education', 'educationno', 'maritalstatus',\n",
       "        'occupation', 'relationship', 'race', 'sex', 'capitalgain',\n",
       "        'capitalloss', 'hoursperweek', 'native', 'Salary'],\n",
       "       dtype='object'))"
      ]
     },
     "execution_count": 4,
     "metadata": {},
     "output_type": "execute_result"
    }
   ],
   "source": [
    "salary_train.columns, salary_test.columns"
   ]
  },
  {
   "cell_type": "code",
   "execution_count": 7,
   "id": "5b79a255",
   "metadata": {},
   "outputs": [],
   "source": [
    "string_columns=['workclass','education','maritalstatus','occupation','relationship','race','sex','native']"
   ]
  },
  {
   "cell_type": "code",
   "execution_count": 8,
   "id": "fdf4a5ac",
   "metadata": {},
   "outputs": [],
   "source": [
    "label_encoder=preprocessing.LabelEncoder()\n",
    "for i in string_columns:\n",
    "    salary_train[i]=label_encoder.fit_transform(salary_train[i])\n",
    "    salary_test[i]=label_encoder.fit_transform(salary_test[i])\n"
   ]
  },
  {
   "cell_type": "code",
   "execution_count": 12,
   "id": "c53fdd67",
   "metadata": {},
   "outputs": [],
   "source": [
    "col_names=list(salary_train.columns)\n",
    "X_train=salary_train[col_names[0:13]]\n",
    "Y_train=salary_train[col_names[13]]\n",
    "X_test=salary_test[col_names[0:13]]\n",
    "Y_test=salary_test[col_names[13]]"
   ]
  },
  {
   "cell_type": "code",
   "execution_count": 13,
   "id": "b3a14e83",
   "metadata": {},
   "outputs": [],
   "source": [
    "Gmodel=GaussianNB()\n",
    "train_pred_gau=Gmodel.fit(X_train,Y_train).predict(X_train)\n",
    "test_pred_gau=Gmodel.fit(X_train,Y_train).predict(X_test)"
   ]
  },
  {
   "cell_type": "code",
   "execution_count": 15,
   "id": "6385caf4",
   "metadata": {},
   "outputs": [],
   "source": [
    "train_acc_gau=np.mean(train_pred_gau==train_Y)\n",
    "test_acc_gau=np.mean(test_pred_gau==test_y)"
   ]
  },
  {
   "cell_type": "code",
   "execution_count": 17,
   "id": "3a9380cd",
   "metadata": {},
   "outputs": [
    {
     "name": "stdout",
     "output_type": "stream",
     "text": [
      "training accuracy:  0.7953317197705646\n",
      "testing accuracy:  0.7946879150066402\n"
     ]
    }
   ],
   "source": [
    "print('training accuracy: ',train_acc_gau)\n",
    "print('testing accuracy: ',test_acc_gau)"
   ]
  }
 ],
 "metadata": {
  "kernelspec": {
   "display_name": "Python 3 (ipykernel)",
   "language": "python",
   "name": "python3"
  },
  "language_info": {
   "codemirror_mode": {
    "name": "ipython",
    "version": 3
   },
   "file_extension": ".py",
   "mimetype": "text/x-python",
   "name": "python",
   "nbconvert_exporter": "python",
   "pygments_lexer": "ipython3",
   "version": "3.9.0"
  }
 },
 "nbformat": 4,
 "nbformat_minor": 5
}
